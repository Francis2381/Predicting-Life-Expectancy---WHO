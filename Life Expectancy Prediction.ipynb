{
 "cells": [
  {
   "cell_type": "markdown",
   "metadata": {},
   "source": []
  },
  {
   "cell_type": "code",
   "execution_count": null,
   "metadata": {},
   "outputs": [],
   "source": [
    "import os\n",
    "import pandas as pd\n",
    "import numpy as np\n",
    "import IPython\n",
    "import seaborn as sns\n",
    "\n",
    "import matplotlib.pyplot as plt\n",
    "from pandas_profiling import ProfileReport\n",
    "%matplotlib inline"
   ]
  },
  {
   "cell_type": "code",
   "execution_count": null,
   "metadata": {},
   "outputs": [],
   "source": [
    "print(os.listdir())\n",
    "os.listdir('life-expectancy-who')"
   ]
  },
  {
   "cell_type": "code",
   "execution_count": null,
   "metadata": {},
   "outputs": [],
   "source": [
    "continent = pd.read_csv('life-expectancy-who/countryContinent.csv', skipinitialspace=True, encoding = \"ISO-8859-1\")\n",
    "\n",
    "df = pd.read_csv('life-expectancy-who/Life Expectancy Data.csv', parse_dates=True)"
   ]
  },
  {
   "cell_type": "code",
   "execution_count": null,
   "metadata": {},
   "outputs": [],
   "source": [
    "continent['continent'].value_counts()"
   ]
  },
  {
   "cell_type": "code",
   "execution_count": null,
   "metadata": {},
   "outputs": [],
   "source": [
    "continent_dict = {}\n",
    "for i in continent['country']:\n",
    "    cont = continent[continent['country']==i]['continent']\n",
    "    c = cont.values[0]\n",
    "    continent_dict[i] = c"
   ]
  },
  {
   "cell_type": "code",
   "execution_count": null,
   "metadata": {},
   "outputs": [],
   "source": [
    "update = {'Republic of Korea' : 'Asia', 'Republic of Moldova' : 'Europe' ,'Democratic Republic of the Congo' : 'Africa', 'Czechia' : 'Europe', 'United Republic of Tanzania' : 'Africa', 'The former Yugoslav republic of Macedonia' : 'Europe', 'Democratic Peoples Republic of Korea' : 'Asia'}\n",
    "\n",
    "continent_dict.update(update)"
   ]
  },
  {
   "cell_type": "code",
   "execution_count": null,
   "metadata": {},
   "outputs": [],
   "source": [
    "df['continent'] = df['Country'].copy()\n",
    "df['continent'] = df['continent'].replace(continent_dict)\n",
    "print(df['continent'].value_counts())\n",
    "df.head()"
   ]
  },
  {
   "cell_type": "code",
   "execution_count": null,
   "metadata": {},
   "outputs": [],
   "source": [
    "new_columns= []\n",
    "columns = list(df.columns)\n",
    "for col in list(df.columns):\n",
    "    a = col.split()\n",
    "    b = '_'.join(a)\n",
    "    new_columns.append(b)\n",
    "df.columns =new_columns\n",
    "\n",
    "\n",
    "df.columns"
   ]
  },
  {
   "cell_type": "code",
   "execution_count": null,
   "metadata": {
    "scrolled": true
   },
   "outputs": [],
   "source": [
    "# Checking the information of the data\n",
    "df.info()"
   ]
  },
  {
   "cell_type": "code",
   "execution_count": null,
   "metadata": {},
   "outputs": [],
   "source": [
    "#Checking the statistical information of the numerical dataset\n",
    "\n",
    "df.describe()"
   ]
  },
  {
   "cell_type": "code",
   "execution_count": null,
   "metadata": {},
   "outputs": [],
   "source": [
    "#Cheching the distribution of missing value in the data, where hite spaces denote missing value\n",
    "\n",
    "plt.figure(figsize=(8,4))\n",
    "sns.heatmap(df.isnull(), yticklabels=False, cbar=False, cmap = 'viridis')"
   ]
  },
  {
   "cell_type": "markdown",
   "metadata": {},
   "source": [
    "### OOPS!!!\n",
    "\n",
    "Even our target column (Life_expectancy) has missing values, we need to look into this.\n",
    "\n",
    "------------------\n",
    "------------------"
   ]
  },
  {
   "cell_type": "code",
   "execution_count": null,
   "metadata": {},
   "outputs": [],
   "source": [
    "df[df['Life_expectancy'].isnull()]\n",
    "#df.head()"
   ]
  },
  {
   "cell_type": "markdown",
   "metadata": {},
   "source": [
    "These countries don't look very familiar, let's check how many times these countries appeared in the dataset."
   ]
  },
  {
   "cell_type": "code",
   "execution_count": null,
   "metadata": {},
   "outputs": [],
   "source": [
    "df.Country.value_counts().tail(15)"
   ]
  },
  {
   "cell_type": "markdown",
   "metadata": {},
   "source": [
    "##### They appeared only ones, pheeeew! \n",
    "\n",
    "Well it is safe to drop them. We will be dropping them after dealing with the other missing data using interpolation."
   ]
  },
  {
   "cell_type": "code",
   "execution_count": null,
   "metadata": {},
   "outputs": [],
   "source": [
    "col = list(df.select_dtypes(include=['int64', 'float64']).columns)\n",
    "col.remove('Life_expectancy')\n",
    "col.remove('Adult_Mortality')\n",
    "df[col]=df[col].interpolate(axis=1)"
   ]
  },
  {
   "cell_type": "code",
   "execution_count": null,
   "metadata": {},
   "outputs": [],
   "source": [
    "df.shape"
   ]
  },
  {
   "cell_type": "code",
   "execution_count": null,
   "metadata": {},
   "outputs": [],
   "source": [
    "df.dropna(inplace=True)"
   ]
  },
  {
   "cell_type": "code",
   "execution_count": null,
   "metadata": {},
   "outputs": [],
   "source": [
    "df.shape"
   ]
  },
  {
   "cell_type": "code",
   "execution_count": null,
   "metadata": {},
   "outputs": [],
   "source": [
    "df.Country.value_counts(ascending=True).tail(15)"
   ]
  },
  {
   "cell_type": "code",
   "execution_count": null,
   "metadata": {},
   "outputs": [],
   "source": [
    "df.tail()"
   ]
  },
  {
   "cell_type": "code",
   "execution_count": null,
   "metadata": {},
   "outputs": [],
   "source": [
    "df[['Country', 'Status']]=df[['Country', 'Status']].astype('category')"
   ]
  },
  {
   "cell_type": "code",
   "execution_count": null,
   "metadata": {},
   "outputs": [],
   "source": [
    "#report = ProfileReport(df)\n",
    "#report.to_file('neppp.html')"
   ]
  },
  {
   "cell_type": "markdown",
   "metadata": {},
   "source": [
    "# Graphical Exploratory Data Analysis"
   ]
  },
  {
   "cell_type": "code",
   "execution_count": null,
   "metadata": {},
   "outputs": [],
   "source": [
    "#Creating a function that check the correlation between\n",
    "\n",
    "def heatmap(data, country):\n",
    "    a = df['Country'].value_counts()\n",
    "    b = list(a.index)\n",
    "    assert country in b, 'country not found in dataset'\n",
    "    correlation = df[df['Country']==country].corr()*100\n",
    "    plt.figure(figsize=(12,7))\n",
    "    sns.heatmap(correlation, annot = True, cbar=False, cmap = 'viridis')"
   ]
  },
  {
   "cell_type": "code",
   "execution_count": null,
   "metadata": {
    "scrolled": false
   },
   "outputs": [],
   "source": [
    "heatmap(df, 'Russian Federation')"
   ]
  },
  {
   "cell_type": "code",
   "execution_count": null,
   "metadata": {},
   "outputs": [],
   "source": [
    "#Visualizing average life expectancy by continent per year\n",
    "def feature_cpy(year, feature, style=None):\n",
    "    global df\n",
    "    plt.figure(figsize=(8,6))\n",
    "    a = df.groupby(['Year','continent']).mean()\n",
    "    y = a.loc[year][feature]\n",
    "    x = a.loc[year].index\n",
    "    if style == None:\n",
    "        sns.set_style('darkgrid')\n",
    "    else:\n",
    "        sns.set_style(style)\n",
    "    sns.barplot(x, y)\n",
    "    plt.title(f'A plot of average {feature} in {year} per continent', fontsize=30)\n",
    "\n",
    "feature_cpy(2010, 'GDP')"
   ]
  },
  {
   "cell_type": "code",
   "execution_count": null,
   "metadata": {
    "scrolled": true
   },
   "outputs": [],
   "source": [
    "df[df['Year'] == 2015][df[df['Year'] == 2015]['GDP']>100000]"
   ]
  },
  {
   "cell_type": "code",
   "execution_count": null,
   "metadata": {},
   "outputs": [],
   "source": [
    "#Plan to make this more interactive using Bokeh\n",
    "\n",
    "plt.figure(figsize=(20,10))\n",
    "x = df[df['Year'] == 2000]['Country']\n",
    "y = df[df['Year'] == 2000]['Life_expectancy']\n",
    "s = df[df['Year'] == 2000]['GDP']\n",
    "cmap = df[df['Year'] == 2000]['continent']\n",
    "a = []\n",
    "for i in list(cmap):\n",
    "    a.append(list(cmap).index(i))\n",
    "sns.set_style('white')\n",
    "plt.scatter(x,y, s=s**0.7, alpha=0.3, c=a, cmap='tab10')\n",
    "plt.xticks(rotation=90)\n",
    "plt.xlabel('Countries')\n",
    "plt.ylabel('GDP');\n",
    "#plt.legend('tab10', list(cmap.value_counts().index))"
   ]
  },
  {
   "cell_type": "markdown",
   "metadata": {},
   "source": [
    "----------------"
   ]
  },
  {
   "cell_type": "code",
   "execution_count": null,
   "metadata": {},
   "outputs": [],
   "source": [
    "def plot(data, col, x_val, y_val, specific, save=False, save_name=None):\n",
    "    '''Take in 5 argument\n",
    "    data : dataframe containing the data\n",
    "    col : categorical column in the dataset\n",
    "    x_val : the value to be on the x axis of the plot\n",
    "    y_val : the value to be on the y axis of the plot\n",
    "    specific :  the category in the categorical column to be specialized on\n",
    "    save(optional) : Boolean, determines if the plot should be saved to file or not\n",
    "    save_name(depend on save) : if save is True, then save_name must be entered'''\n",
    "    plt.grid(True)\n",
    "    df = data[data[col] == specific]\n",
    "    x = df[x_val]\n",
    "    y = df[y_val]\n",
    "    plt.plot(x, y, linestyle = '--')\n",
    "    plt.scatter(x, y, c='r', marker='x')\n",
    "    plt.xlabel(x_val)\n",
    "    plt.ylabel(y_val)\n",
    "    plt.title(f'{x_val} against {y_val} ({specific})', fontsize=20)\n",
    "    if save:\n",
    "        plt.savefig(save_name)   \n",
    "    plt.show()"
   ]
  },
  {
   "cell_type": "code",
   "execution_count": null,
   "metadata": {},
   "outputs": [],
   "source": [
    "plot(df,'Country', 'Year', 'GDP','Nigeria')#, save=True, save_name='ife')"
   ]
  },
  {
   "cell_type": "code",
   "execution_count": null,
   "metadata": {},
   "outputs": [],
   "source": [
    "df['Life_expectancy'].max()"
   ]
  },
  {
   "cell_type": "code",
   "execution_count": null,
   "metadata": {},
   "outputs": [],
   "source": [
    "sns.countplot(x='Status', data=df)"
   ]
  },
  {
   "cell_type": "markdown",
   "metadata": {},
   "source": [
    "We have a bias in the Status column as we have more Developing countries than Developed countrties"
   ]
  },
  {
   "cell_type": "code",
   "execution_count": null,
   "metadata": {
    "scrolled": true
   },
   "outputs": [],
   "source": [
    "#report = ProfileReport(df)\n",
    "#report.to_widgets()"
   ]
  },
  {
   "cell_type": "code",
   "execution_count": null,
   "metadata": {},
   "outputs": [],
   "source": [
    "dd = df[df['Year']==2015]\n",
    "dd.reset_index(drop=True, inplace=True)\n",
    "plt.figure(figsize=(20,10))\n",
    "plt.scatter(x=dd.Country, y=dd['Life_expectancy'], alpha=0.5, marker='.', c='g', s=dd['GDP']**0.7)\n",
    "plt.xlabel('Country')\n",
    "plt.ylabel('GDP')\n",
    "plt.xticks(rotation = 90)\n",
    "plt.title('Country v GDP')"
   ]
  },
  {
   "cell_type": "code",
   "execution_count": null,
   "metadata": {
    "scrolled": false
   },
   "outputs": [],
   "source": [
    "from sklearn.preprocessing import Normalizer\n",
    "\n",
    "df['avg_child_dr'] = df['under-five_deaths']/2 + df['infant_deaths']/2\n",
    "df['avg_thinness'] = (df['thinness_1-19_years'] + df['thinness_5-9_years'])/2\n",
    "\n",
    "df.drop(axis=1, columns=['thinness_1-19_years', 'thinness_5-9_years'], inplace=True)#, 'under-five_deaths',\n",
    "                        #'infant_deaths'], inplace=True)\n",
    "\n",
    "num_col = list(df.select_dtypes(include=['float64', 'int64']).columns)\n",
    "num_col.remove('Year')\n",
    "num_col.remove('Life_expectancy')\n",
    "norm = Normalizer()\n",
    "df[num_col] = norm.fit_transform(df[num_col])"
   ]
  },
  {
   "cell_type": "code",
   "execution_count": null,
   "metadata": {},
   "outputs": [],
   "source": [
    "df.head()"
   ]
  },
  {
   "cell_type": "code",
   "execution_count": null,
   "metadata": {},
   "outputs": [],
   "source": [
    "#report = ProfileReport(df)\n",
    "#report.to_widgets()"
   ]
  },
  {
   "cell_type": "code",
   "execution_count": null,
   "metadata": {},
   "outputs": [],
   "source": [
    "heatmap(df, 'Nigeria')"
   ]
  },
  {
   "cell_type": "code",
   "execution_count": null,
   "metadata": {},
   "outputs": [],
   "source": [
    "plt.figure(figsize=(12,7))\n",
    "sns.heatmap(df.corr(), annot = True, cbar=False, cmap = 'viridis')"
   ]
  },
  {
   "cell_type": "code",
   "execution_count": null,
   "metadata": {},
   "outputs": [],
   "source": [
    "df = pd.get_dummies(df, drop_first=True, columns=['Status', 'continent'])\n",
    "df.columns"
   ]
  },
  {
   "cell_type": "code",
   "execution_count": null,
   "metadata": {},
   "outputs": [],
   "source": [
    "#Run this cell only once\n",
    "\n",
    "dff = df.copy()\n",
    "def linear(dff, country=None):\n",
    "    from sklearn.linear_model import LinearRegression\n",
    "    from sklearn.metrics import mean_absolute_error, mean_squared_error, r2_score\n",
    "    lr = LinearRegression()\n",
    "    if country == None:\n",
    "        pass\n",
    "    else:\n",
    "        dff = dff[dff['Country']==country]\n",
    "    dff = dff.drop(axis=1, columns='Country')\n",
    "    ttest = dff[dff['Year']==2015]\n",
    "    train = dff.drop(ttest.index)\n",
    "    X_test = ttest.drop(axis=1, columns='Life_expectancy')\n",
    "    y_test = ttest['Life_expectancy']\n",
    "\n",
    "    X_train = train.drop(axis=1, columns='Life_expectancy')\n",
    "    y_train = train['Life_expectancy']\n",
    "    \n",
    "    lr.fit(X_train, y_train)\n",
    "    pred = lr.predict(X_test)\n",
    "    \n",
    "    mae = mean_absolute_error(y_test, pred)\n",
    "    mse = mean_squared_error(y_test, pred)\n",
    "    r_score = r2_score(y_test, pred)\n",
    "    sns.distplot((y_test-pred),bins=50)\n",
    "    plt.show()\n",
    "    plt.scatter(y_test,pred)\n",
    "    plt.xlabel('orig')\n",
    "    plt.ylabel('pred')\n",
    "    plt.show()\n",
    "    coeff_dff = pd.DataFrame(lr.coef_,X_train.columns,columns=['Coefficient'])\n",
    "    print(f'{coeff_dff} \\n \\n \\n')\n",
    "    print(f'pred_min  : {pred.min()} \\n pred_max : {pred.max()}')\n",
    "    print(f'mean abs error : {mae} \\n mean squared error : {mse} \\n r2_score : {r_score}')"
   ]
  },
  {
   "cell_type": "code",
   "execution_count": null,
   "metadata": {},
   "outputs": [],
   "source": [
    "country = 'Russian Federation'\n",
    "linear(dff)"
   ]
  },
  {
   "cell_type": "code",
   "execution_count": null,
   "metadata": {},
   "outputs": [],
   "source": [
    "from keras import models\n",
    "from keras import layers\n",
    "\n",
    "def build_model():\n",
    "    # Because we will need to instantiate\n",
    "    # the same model multiple times,\n",
    "    # we use a function to construct it.\n",
    "    model = models.Sequential()\n",
    "    model.add(layers.Dense(256, activation='relu',\n",
    "                           input_shape=(X_train.shape[1],)))\n",
    "    model.add(layers.Dense(256, activation='relu'))\n",
    "    model.add(layers.Dense(128, activation='relu'))\n",
    "    model.add(layers.Dense(64, activation='relu'))\n",
    "    model.add(layers.Dense(1))\n",
    "    model.compile(optimizer='rmsprop', loss='mse', metrics=['mae'])\n",
    "    return model"
   ]
  },
  {
   "cell_type": "code",
   "execution_count": null,
   "metadata": {},
   "outputs": [],
   "source": [
    "df = df.drop(axis=1, columns='Country')\n",
    "df.head()"
   ]
  },
  {
   "cell_type": "code",
   "execution_count": null,
   "metadata": {},
   "outputs": [],
   "source": [
    "ttest = df[df['Year']==2015]\n",
    "train = df.drop(ttest.index)\n",
    "\n",
    "X_test = ttest.drop(axis=1, columns='Life_expectancy')\n",
    "y_test = ttest['Life_expectancy']\n",
    "\n",
    "X_train = train.drop(axis=1, columns='Life_expectancy')\n",
    "y_train = train['Life_expectancy']"
   ]
  },
  {
   "cell_type": "code",
   "execution_count": null,
   "metadata": {},
   "outputs": [],
   "source": [
    "ttest = df[df['Year']==2015]\n",
    "train = df.drop(ttest.index)\n",
    "X_test = np.array(ttest.drop(axis=1, columns='Life_expectancy'))\n",
    "y_test = np.array(ttest['Life_expectancy'])\n",
    "\n",
    "X_train = train.drop(axis=1, columns='Life_expectancy')\n",
    "y_train = train['Life_expectancy']\n",
    "model = build_model()\n",
    "model.fit(X_train, y_train,epochs=10, batch_size=1, verbose=1)\n",
    "val_mse, val_mae = model.evaluate(X_test, y_test, verbose=1)\n",
    "print(f'mse : {val_mse} \\n mae : {val_mae}')"
   ]
  },
  {
   "cell_type": "code",
   "execution_count": null,
   "metadata": {
    "scrolled": true
   },
   "outputs": [],
   "source": [
    "import numpy as np\n",
    "\n",
    "k = 4\n",
    "num_val_samples = len(X_train) // k\n",
    "num_epochs = 50\n",
    "all_scores = []\n",
    "for i in range(k):\n",
    "    print('processing fold #', i)\n",
    "    # Prepare the validation data: data from partition # k\n",
    "    val_data = X_train[i * num_val_samples: (i + 1) * num_val_samples]\n",
    "    val_targets = y_train[i * num_val_samples: (i + 1) * num_val_samples]\n",
    "\n",
    "    # Prepare the training data: data from all other partitions\n",
    "    partial_X_train = np.concatenate(\n",
    "        [X_train[:i * num_val_samples],\n",
    "         X_train[(i + 1) * num_val_samples:]],\n",
    "        axis=0)\n",
    "    partial_y_train = np.concatenate(\n",
    "        [y_train[:i * num_val_samples],\n",
    "         y_train[(i + 1) * num_val_samples:]],\n",
    "        axis=0)\n",
    "\n",
    "    # Build the Keras model (already compiled)\n",
    "    model = build_model()\n",
    "    # Train the model (in silent mode, verbose=0)\n",
    "    model.fit(partial_X_train, partial_y_train,\n",
    "              epochs=num_epochs, batch_size=1, verbose=1)\n",
    "    # Evaluate the model on the validation data\n",
    "    val_mse, val_mae = model.evaluate(val_data, val_targets, verbose=1)\n",
    "    all_scores.append(val_mae)\n",
    "pred=model.predict(X_test, verbose=1)\n",
    "val_mse, val_mae = model.evaluate(X_test, y_test, verbose=1)\n",
    "sns.distplot((y_test-pred),bins=50)\n",
    "plt.show()\n",
    "plt.scatter(y_test,pred)\n",
    "plt.xlabel('orig')\n",
    "plt.ylabel('pred')\n",
    "plt.show()\n",
    "print(f'pred_min  : {pred.min()} \\n pred_max : {pred.max()}')\n",
    "print(f'mse : {val_mse} \\n mae : {val_mae} \\n {all_scores}')"
   ]
  },
  {
   "cell_type": "code",
   "execution_count": null,
   "metadata": {},
   "outputs": [],
   "source": [
    "pred=model.predict(X_test, verbose=1)\n",
    "val_mse, val_mae = model.evaluate(X_test, y_test, verbose=1)\n",
    "sns.distplot((y_test-pred),bins=50)\n",
    "plt.show()\n",
    "plt.scatter(y_test,pred)\n",
    "plt.xlabel('orig')\n",
    "plt.ylabel('pred')\n",
    "plt.show()\n",
    "print(f'mse : {val_mse} \\n mae : {val_mae}')"
   ]
  },
  {
   "cell_type": "code",
   "execution_count": null,
   "metadata": {},
   "outputs": [],
   "source": [
    "all_scores"
   ]
  },
  {
   "cell_type": "code",
   "execution_count": null,
   "metadata": {},
   "outputs": [],
   "source": []
  },
  {
   "cell_type": "markdown",
   "metadata": {},
   "source": [
    "# Pheeeeeeeew\n",
    "\n",
    "That is a lot but we can make it better, I will keep updating the notebook, so watchout!"
   ]
  }
 ],
 "metadata": {
  "kernelspec": {
   "display_name": "Python 3",
   "language": "python",
   "name": "python3"
  },
  "language_info": {
   "codemirror_mode": {
    "name": "ipython",
    "version": 3
   },
   "file_extension": ".py",
   "mimetype": "text/x-python",
   "name": "python",
   "nbconvert_exporter": "python",
   "pygments_lexer": "ipython3",
   "version": "3.7.7"
  }
 },
 "nbformat": 4,
 "nbformat_minor": 4
}
