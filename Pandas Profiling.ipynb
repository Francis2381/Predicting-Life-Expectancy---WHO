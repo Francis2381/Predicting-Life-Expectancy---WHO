{
 "cells": [
  {
   "cell_type": "markdown",
   "metadata": {},
   "source": []
  },
  {
   "cell_type": "code",
   "execution_count": 1,
   "metadata": {
    "scrolled": true
   },
   "outputs": [
    {
     "name": "stdout",
     "output_type": "stream",
     "text": [
      "Requirement already satisfied: pandas-profiling in c:\\users\\user\\anaconda3\\lib\\site-packages (2.6.0)\n",
      "Requirement already satisfied: statsmodels>=0.11.1 in c:\\users\\user\\anaconda3\\lib\\site-packages (from pandas-profiling) (0.11.1)\n",
      "Requirement already satisfied: htmlmin>=0.1.12 in c:\\users\\user\\anaconda3\\lib\\site-packages (from pandas-profiling) (0.1.12)\n",
      "Requirement already satisfied: numpy>=1.16.0 in c:\\users\\user\\anaconda3\\lib\\site-packages (from pandas-profiling) (1.18.1)\n",
      "Requirement already satisfied: confuse>=1.0.0 in c:\\users\\user\\anaconda3\\lib\\site-packages (from pandas-profiling) (1.1.0)\n",
      "Requirement already satisfied: visions[type_image_path]>=0.4.1 in c:\\users\\user\\anaconda3\\lib\\site-packages (from pandas-profiling) (0.4.1)\n",
      "Requirement already satisfied: tangled-up-in-unicode>=0.0.4 in c:\\users\\user\\anaconda3\\lib\\site-packages (from pandas-profiling) (0.0.4)\n",
      "Requirement already satisfied: tqdm>=4.43.0 in c:\\users\\user\\anaconda3\\lib\\site-packages (from pandas-profiling) (4.45.0)\n",
      "Requirement already satisfied: phik>=0.9.10 in c:\\users\\user\\anaconda3\\lib\\site-packages (from pandas-profiling) (0.9.11)\n",
      "Requirement already satisfied: ipywidgets>=7.5.1 in c:\\users\\user\\anaconda3\\lib\\site-packages (from pandas-profiling) (7.5.1)\n",
      "Requirement already satisfied: matplotlib>=3.2.0 in c:\\users\\user\\anaconda3\\lib\\site-packages (from pandas-profiling) (3.2.1)\n",
      "Requirement already satisfied: astropy>=4.0 in c:\\users\\user\\anaconda3\\lib\\site-packages (from pandas-profiling) (4.0.1.post1)\n",
      "Requirement already satisfied: jinja2>=2.11.1 in c:\\users\\user\\anaconda3\\lib\\site-packages (from pandas-profiling) (2.11.2)\n",
      "Requirement already satisfied: missingno>=0.4.2 in c:\\users\\user\\anaconda3\\lib\\site-packages (from pandas-profiling) (0.4.2)\n",
      "Requirement already satisfied: pandas>=0.25.3 in c:\\users\\user\\anaconda3\\lib\\site-packages (from pandas-profiling) (1.0.3)\n",
      "Requirement already satisfied: requests>=2.23.0 in c:\\users\\user\\anaconda3\\lib\\site-packages (from pandas-profiling) (2.23.0)\n",
      "Requirement already satisfied: scipy>=1.4.1 in c:\\users\\user\\anaconda3\\lib\\site-packages (from pandas-profiling) (1.4.1)\n",
      "Requirement already satisfied: patsy>=0.5 in c:\\users\\user\\anaconda3\\lib\\site-packages (from statsmodels>=0.11.1->pandas-profiling) (0.5.1)\n",
      "Requirement already satisfied: pyyaml in c:\\users\\user\\anaconda3\\lib\\site-packages (from confuse>=1.0.0->pandas-profiling) (5.3.1)\n",
      "Requirement already satisfied: attrs>=19.3.0 in c:\\users\\user\\anaconda3\\lib\\site-packages (from visions[type_image_path]>=0.4.1->pandas-profiling) (19.3.0)\n",
      "Requirement already satisfied: networkx>=2.4 in c:\\users\\user\\anaconda3\\lib\\site-packages (from visions[type_image_path]>=0.4.1->pandas-profiling) (2.4)\n",
      "Requirement already satisfied: Pillow; extra == \"type_image_path\" in c:\\users\\user\\anaconda3\\lib\\site-packages (from visions[type_image_path]>=0.4.1->pandas-profiling) (7.0.0)\n",
      "Requirement already satisfied: imagehash; extra == \"type_image_path\" in c:\\users\\user\\anaconda3\\lib\\site-packages (from visions[type_image_path]>=0.4.1->pandas-profiling) (4.1.0)\n",
      "Requirement already satisfied: joblib>=0.14.1 in c:\\users\\user\\anaconda3\\lib\\site-packages (from phik>=0.9.10->pandas-profiling) (0.14.1)\n",
      "Requirement already satisfied: numba>=0.38.1 in c:\\users\\user\\anaconda3\\lib\\site-packages (from phik>=0.9.10->pandas-profiling) (0.49.0)\n",
      "Requirement already satisfied: traitlets>=4.3.1 in c:\\users\\user\\appdata\\roaming\\python\\python37\\site-packages (from ipywidgets>=7.5.1->pandas-profiling) (4.3.2)\n",
      "Requirement already satisfied: ipykernel>=4.5.1 in c:\\users\\user\\appdata\\roaming\\python\\python37\\site-packages (from ipywidgets>=7.5.1->pandas-profiling) (5.1.0)\n",
      "Requirement already satisfied: ipython>=4.0.0; python_version >= \"3.3\" in c:\\users\\user\\appdata\\roaming\\python\\python37\\site-packages (from ipywidgets>=7.5.1->pandas-profiling) (7.2.0)\n",
      "Requirement already satisfied: nbformat>=4.2.0 in c:\\users\\user\\appdata\\roaming\\python\\python37\\site-packages (from ipywidgets>=7.5.1->pandas-profiling) (4.4.0)\n",
      "Requirement already satisfied: widgetsnbextension~=3.5.0 in c:\\users\\user\\anaconda3\\lib\\site-packages (from ipywidgets>=7.5.1->pandas-profiling) (3.5.1)\n",
      "Requirement already satisfied: cycler>=0.10 in c:\\users\\user\\appdata\\roaming\\python\\python37\\site-packages (from matplotlib>=3.2.0->pandas-profiling) (0.10.0)\n",
      "Requirement already satisfied: python-dateutil>=2.1 in c:\\users\\user\\appdata\\roaming\\python\\python37\\site-packages (from matplotlib>=3.2.0->pandas-profiling) (2.7.5)\n",
      "Requirement already satisfied: kiwisolver>=1.0.1 in c:\\users\\user\\appdata\\roaming\\python\\python37\\site-packages (from matplotlib>=3.2.0->pandas-profiling) (1.0.1)\n",
      "Requirement already satisfied: pyparsing!=2.0.4,!=2.1.2,!=2.1.6,>=2.0.1 in c:\\users\\user\\appdata\\roaming\\python\\python37\\site-packages (from matplotlib>=3.2.0->pandas-profiling) (2.3.1)\n",
      "Requirement already satisfied: MarkupSafe>=0.23 in c:\\users\\user\\appdata\\roaming\\python\\python37\\site-packages (from jinja2>=2.11.1->pandas-profiling) (1.1.0)\n",
      "Requirement already satisfied: seaborn in c:\\users\\user\\anaconda3\\lib\\site-packages (from missingno>=0.4.2->pandas-profiling) (0.10.0)\n",
      "Requirement already satisfied: pytz>=2017.2 in c:\\users\\user\\appdata\\roaming\\python\\python37\\site-packages (from pandas>=0.25.3->pandas-profiling) (2018.9)\n",
      "Requirement already satisfied: certifi>=2017.4.17 in c:\\users\\user\\anaconda3\\lib\\site-packages (from requests>=2.23.0->pandas-profiling) (2020.4.5.1)\n",
      "Requirement already satisfied: urllib3!=1.25.0,!=1.25.1,<1.26,>=1.21.1 in c:\\users\\user\\anaconda3\\lib\\site-packages (from requests>=2.23.0->pandas-profiling) (1.25.8)\n",
      "Requirement already satisfied: idna<3,>=2.5 in c:\\users\\user\\anaconda3\\lib\\site-packages (from requests>=2.23.0->pandas-profiling) (2.9)\n",
      "Requirement already satisfied: chardet<4,>=3.0.2 in c:\\users\\user\\anaconda3\\lib\\site-packages (from requests>=2.23.0->pandas-profiling) (3.0.4)\n",
      "Requirement already satisfied: six in c:\\users\\user\\appdata\\roaming\\python\\python37\\site-packages (from patsy>=0.5->statsmodels>=0.11.1->pandas-profiling) (1.12.0)\n",
      "Requirement already satisfied: decorator>=4.3.0 in c:\\users\\user\\appdata\\roaming\\python\\python37\\site-packages (from networkx>=2.4->visions[type_image_path]>=0.4.1->pandas-profiling) (4.3.0)\n",
      "Requirement already satisfied: PyWavelets in c:\\users\\user\\anaconda3\\lib\\site-packages (from imagehash; extra == \"type_image_path\"->visions[type_image_path]>=0.4.1->pandas-profiling) (1.1.1)\n",
      "Requirement already satisfied: llvmlite<=0.33.0.dev0,>=0.31.0.dev0 in c:\\users\\user\\anaconda3\\lib\\site-packages (from numba>=0.38.1->phik>=0.9.10->pandas-profiling) (0.32.0)\n",
      "Requirement already satisfied: setuptools in c:\\users\\user\\anaconda3\\lib\\site-packages (from numba>=0.38.1->phik>=0.9.10->pandas-profiling) (46.1.3.post20200330)\n",
      "Requirement already satisfied: ipython-genutils in c:\\users\\user\\appdata\\roaming\\python\\python37\\site-packages (from traitlets>=4.3.1->ipywidgets>=7.5.1->pandas-profiling) (0.2.0)\n",
      "Requirement already satisfied: jupyter-client in c:\\users\\user\\appdata\\roaming\\python\\python37\\site-packages (from ipykernel>=4.5.1->ipywidgets>=7.5.1->pandas-profiling) (5.2.4)\n",
      "Requirement already satisfied: tornado>=4.2 in c:\\users\\user\\appdata\\roaming\\python\\python37\\site-packages (from ipykernel>=4.5.1->ipywidgets>=7.5.1->pandas-profiling) (5.1.1)\n",
      "Requirement already satisfied: prompt-toolkit<2.1.0,>=2.0.0 in c:\\users\\user\\appdata\\roaming\\python\\python37\\site-packages (from ipython>=4.0.0; python_version >= \"3.3\"->ipywidgets>=7.5.1->pandas-profiling) (2.0.7)\n",
      "Requirement already satisfied: backcall in c:\\users\\user\\appdata\\roaming\\python\\python37\\site-packages (from ipython>=4.0.0; python_version >= \"3.3\"->ipywidgets>=7.5.1->pandas-profiling) (0.1.0)\n",
      "Requirement already satisfied: jedi>=0.10 in c:\\users\\user\\appdata\\roaming\\python\\python37\\site-packages (from ipython>=4.0.0; python_version >= \"3.3\"->ipywidgets>=7.5.1->pandas-profiling) (0.13.2)\n",
      "Requirement already satisfied: pickleshare in c:\\users\\user\\appdata\\roaming\\python\\python37\\site-packages (from ipython>=4.0.0; python_version >= \"3.3\"->ipywidgets>=7.5.1->pandas-profiling) (0.7.5)\n",
      "Requirement already satisfied: colorama; sys_platform == \"win32\" in c:\\users\\user\\appdata\\roaming\\python\\python37\\site-packages (from ipython>=4.0.0; python_version >= \"3.3\"->ipywidgets>=7.5.1->pandas-profiling) (0.4.1)\n",
      "Requirement already satisfied: pygments in c:\\users\\user\\appdata\\roaming\\python\\python37\\site-packages (from ipython>=4.0.0; python_version >= \"3.3\"->ipywidgets>=7.5.1->pandas-profiling) (2.3.1)\n",
      "Requirement already satisfied: jsonschema!=2.5.0,>=2.4 in c:\\users\\user\\appdata\\roaming\\python\\python37\\site-packages (from nbformat>=4.2.0->ipywidgets>=7.5.1->pandas-profiling) (2.6.0)\n",
      "Requirement already satisfied: jupyter-core in c:\\users\\user\\appdata\\roaming\\python\\python37\\site-packages (from nbformat>=4.2.0->ipywidgets>=7.5.1->pandas-profiling) (4.4.0)\n",
      "Requirement already satisfied: notebook>=4.4.1 in c:\\users\\user\\appdata\\roaming\\python\\python37\\site-packages (from widgetsnbextension~=3.5.0->ipywidgets>=7.5.1->pandas-profiling) (5.7.4)\n",
      "Requirement already satisfied: pyzmq>=13 in c:\\users\\user\\anaconda3\\lib\\site-packages (from jupyter-client->ipykernel>=4.5.1->ipywidgets>=7.5.1->pandas-profiling) (18.1.1)\n",
      "Requirement already satisfied: wcwidth in c:\\users\\user\\appdata\\roaming\\python\\python37\\site-packages (from prompt-toolkit<2.1.0,>=2.0.0->ipython>=4.0.0; python_version >= \"3.3\"->ipywidgets>=7.5.1->pandas-profiling) (0.1.7)\n",
      "Requirement already satisfied: parso>=0.3.0 in c:\\users\\user\\appdata\\roaming\\python\\python37\\site-packages (from jedi>=0.10->ipython>=4.0.0; python_version >= \"3.3\"->ipywidgets>=7.5.1->pandas-profiling) (0.3.1)\n",
      "Requirement already satisfied: terminado>=0.8.1 in c:\\users\\user\\appdata\\roaming\\python\\python37\\site-packages (from notebook>=4.4.1->widgetsnbextension~=3.5.0->ipywidgets>=7.5.1->pandas-profiling) (0.8.1)\n",
      "Requirement already satisfied: Send2Trash in c:\\users\\user\\appdata\\roaming\\python\\python37\\site-packages (from notebook>=4.4.1->widgetsnbextension~=3.5.0->ipywidgets>=7.5.1->pandas-profiling) (1.5.0)\n",
      "Requirement already satisfied: nbconvert in c:\\users\\user\\appdata\\roaming\\python\\python37\\site-packages (from notebook>=4.4.1->widgetsnbextension~=3.5.0->ipywidgets>=7.5.1->pandas-profiling) (5.4.0)\n",
      "Requirement already satisfied: prometheus-client in c:\\users\\user\\appdata\\roaming\\python\\python37\\site-packages (from notebook>=4.4.1->widgetsnbextension~=3.5.0->ipywidgets>=7.5.1->pandas-profiling) (0.5.0)\n",
      "Requirement already satisfied: pywinpty>=0.5; os_name == \"nt\" in c:\\users\\user\\appdata\\roaming\\python\\python37\\site-packages (from terminado>=0.8.1->notebook>=4.4.1->widgetsnbextension~=3.5.0->ipywidgets>=7.5.1->pandas-profiling) (0.5.5)\n",
      "Requirement already satisfied: bleach in c:\\users\\user\\appdata\\roaming\\python\\python37\\site-packages (from nbconvert->notebook>=4.4.1->widgetsnbextension~=3.5.0->ipywidgets>=7.5.1->pandas-profiling) (3.1.0)\n",
      "Requirement already satisfied: entrypoints>=0.2.2 in c:\\users\\user\\appdata\\roaming\\python\\python37\\site-packages (from nbconvert->notebook>=4.4.1->widgetsnbextension~=3.5.0->ipywidgets>=7.5.1->pandas-profiling) (0.3)\n",
      "Requirement already satisfied: defusedxml in c:\\users\\user\\appdata\\roaming\\python\\python37\\site-packages (from nbconvert->notebook>=4.4.1->widgetsnbextension~=3.5.0->ipywidgets>=7.5.1->pandas-profiling) (0.5.0)\n",
      "Requirement already satisfied: mistune>=0.8.1 in c:\\users\\user\\appdata\\roaming\\python\\python37\\site-packages (from nbconvert->notebook>=4.4.1->widgetsnbextension~=3.5.0->ipywidgets>=7.5.1->pandas-profiling) (0.8.4)\n",
      "Requirement already satisfied: testpath in c:\\users\\user\\appdata\\roaming\\python\\python37\\site-packages (from nbconvert->notebook>=4.4.1->widgetsnbextension~=3.5.0->ipywidgets>=7.5.1->pandas-profiling) (0.4.2)\n",
      "Requirement already satisfied: pandocfilters>=1.4.1 in c:\\users\\user\\appdata\\roaming\\python\\python37\\site-packages (from nbconvert->notebook>=4.4.1->widgetsnbextension~=3.5.0->ipywidgets>=7.5.1->pandas-profiling) (1.4.2)\n",
      "Requirement already satisfied: webencodings in c:\\users\\user\\appdata\\roaming\\python\\python37\\site-packages (from bleach->nbconvert->notebook>=4.4.1->widgetsnbextension~=3.5.0->ipywidgets>=7.5.1->pandas-profiling) (0.5.1)\n"
     ]
    }
   ],
   "source": [
    "!pip install pandas-profiling"
   ]
  },
  {
   "cell_type": "code",
   "execution_count": 3,
   "metadata": {},
   "outputs": [],
   "source": [
    "from pandas_profiling import ProfileReport\n",
    "import numpy as np\n",
    "import pandas as pd\n",
    "import IPython"
   ]
  },
  {
   "cell_type": "code",
   "execution_count": 4,
   "metadata": {},
   "outputs": [],
   "source": [
    "df = pd.read_csv('life-expectancy-who/Life Expectancy Data.csv')"
   ]
  },
  {
   "cell_type": "code",
   "execution_count": 5,
   "metadata": {},
   "outputs": [
    {
     "data": {
      "application/vnd.jupyter.widget-view+json": {
       "model_id": "3aa8c7477a6c48a78f46ed698ba24723",
       "version_major": 2,
       "version_minor": 0
      },
      "text/plain": [
       "HBox(children=(FloatProgress(value=0.0, description='variables', max=22.0, style=ProgressStyle(description_wid…"
      ]
     },
     "metadata": {},
     "output_type": "display_data"
    },
    {
     "name": "stdout",
     "output_type": "stream",
     "text": [
      "\n"
     ]
    },
    {
     "data": {
      "application/vnd.jupyter.widget-view+json": {
       "model_id": "ca0678dbba184bdab8d93a5ff2b5aff5",
       "version_major": 2,
       "version_minor": 0
      },
      "text/plain": [
       "HBox(children=(FloatProgress(value=0.0, description='table', max=1.0, style=ProgressStyle(description_width='i…"
      ]
     },
     "metadata": {},
     "output_type": "display_data"
    },
    {
     "name": "stdout",
     "output_type": "stream",
     "text": [
      "\n"
     ]
    },
    {
     "data": {
      "application/vnd.jupyter.widget-view+json": {
       "model_id": "a0fb141438334a27b8712f0fba9f1c6f",
       "version_major": 2,
       "version_minor": 0
      },
      "text/plain": [
       "HBox(children=(FloatProgress(value=0.0, description='warnings', max=3.0, style=ProgressStyle(description_width…"
      ]
     },
     "metadata": {},
     "output_type": "display_data"
    },
    {
     "name": "stdout",
     "output_type": "stream",
     "text": [
      "\n"
     ]
    },
    {
     "data": {
      "application/vnd.jupyter.widget-view+json": {
       "model_id": "24991a72feb24296bbc8b74cd41a68dc",
       "version_major": 2,
       "version_minor": 0
      },
      "text/plain": [
       "HBox(children=(FloatProgress(value=0.0, description='package', max=1.0, style=ProgressStyle(description_width=…"
      ]
     },
     "metadata": {},
     "output_type": "display_data"
    },
    {
     "name": "stdout",
     "output_type": "stream",
     "text": [
      "\n"
     ]
    },
    {
     "data": {
      "application/vnd.jupyter.widget-view+json": {
       "model_id": "c335c21a3e074d7ca6ecca78f3897c92",
       "version_major": 2,
       "version_minor": 0
      },
      "text/plain": [
       "HBox(children=(FloatProgress(value=0.0, description='build report structure', max=1.0, style=ProgressStyle(des…"
      ]
     },
     "metadata": {},
     "output_type": "display_data"
    },
    {
     "name": "stdout",
     "output_type": "stream",
     "text": [
      "\n"
     ]
    }
   ],
   "source": [
    "report = ProfileReport(df, minimal=True)"
   ]
  },
  {
   "cell_type": "code",
   "execution_count": 6,
   "metadata": {},
   "outputs": [
    {
     "data": {
      "application/vnd.jupyter.widget-view+json": {
       "model_id": "c0b7b792743d4054b49338deeefb7a22",
       "version_major": 2,
       "version_minor": 0
      },
      "text/plain": [
       "Tab(children=(Tab(children=(GridBox(children=(VBox(children=(GridspecLayout(children=(HTML(value='Number of va…"
      ]
     },
     "metadata": {},
     "output_type": "display_data"
    },
    {
     "data": {
      "text/html": [
       "Report generated with <a href=\"https://github.com/pandas-profiling/pandas-profiling\">pandas-profiling</a>."
      ],
      "text/plain": [
       "<IPython.core.display.HTML object>"
      ]
     },
     "metadata": {},
     "output_type": "display_data"
    }
   ],
   "source": [
    "report.to_widgets()"
   ]
  },
  {
   "cell_type": "code",
   "execution_count": 30,
   "metadata": {},
   "outputs": [],
   "source": [
    "report.to_file(output_file='life_expectancy.html')"
   ]
  },
  {
   "cell_type": "code",
   "execution_count": null,
   "metadata": {},
   "outputs": [],
   "source": [
    "from timeit import default_timer as timer\n",
    "\n",
    "# START MY TIMER\n",
    "start = timer()\n",
    "profile.to_widgets()\n",
    "# STOP MY TIMER\n",
    "elapsed_time = timer() - start\n",
    "print(elapsed_time)"
   ]
  }
 ],
 "metadata": {
  "kernelspec": {
   "display_name": "Python 3",
   "language": "python",
   "name": "python3"
  },
  "language_info": {
   "codemirror_mode": {
    "name": "ipython",
    "version": 3
   },
   "file_extension": ".py",
   "mimetype": "text/x-python",
   "name": "python",
   "nbconvert_exporter": "python",
   "pygments_lexer": "ipython3",
   "version": "3.7.7"
  }
 },
 "nbformat": 4,
 "nbformat_minor": 4
}
